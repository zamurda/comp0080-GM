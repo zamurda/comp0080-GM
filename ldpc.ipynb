{
 "cells": [
  {
   "cell_type": "code",
   "execution_count": 1,
   "metadata": {},
   "outputs": [
    {
     "name": "stdout",
     "output_type": "stream",
     "text": [
      "[[1 1 1 1 0 0]\n",
      " [0 1 1 0 1 0]\n",
      " [0 0 1 1 0 1]]\n",
      "[[1 0 0 1 1 0]\n",
      " [0 1 0 1 1 1]\n",
      " [0 0 1 1 0 1]]\n",
      "[[1 1 0 1 0 0]\n",
      " [1 1 1 0 1 0]\n",
      " [1 0 1 0 0 1]]\n",
      "[[1. 0. 0.]\n",
      " [0. 1. 0.]\n",
      " [0. 0. 1.]\n",
      " [1. 1. 0.]\n",
      " [1. 1. 1.]\n",
      " [1. 0. 1.]]\n"
     ]
    }
   ],
   "source": [
    "import numpy as np\n",
    "import scipy as sp\n",
    "import util"
   ]
  },
  {
   "cell_type": "markdown",
   "metadata": {},
   "source": [
    "<h1> Computing the generator matrix </h1>\n",
    "\n",
    "The parity check matrix $\\mathbf{H}$ has size (N-K,N) for a given K (message size) and N (codeword size) where K < N.\n",
    "This check matrix defines a linear code, where the set of all possible codewords are vectors $\\mathbf{x}$ such that $\\mathbf{Hx} = 0$. In other words, the nullspace of $\\mathbf{H}$ gives us the codebook. For which we need to have a mapping from the original message to the encoded vectors.\n",
    "\n",
    "Since the code forms a K-dimensional subspace of $\\{0,1\\}^N$, we want to find the basis vectors of this subspace. Then, we can build a generator matrix $\\mathbf{G}$, such that the codeword is just the message expressed in the basis defined by $\\mathbf{G}$, i.e. $\\mathbf{x} = \\mathbf{Gt}$.\n",
    "\n",
    "Using the rank-nullity theorem, we derive that the nullspace of $\\mathbf{H}$ is K-dimensional, and so the columns of $\\mathbf{G}$ are just K vectors that define the nullspace of $\\mathbf{H}$."
   ]
  },
  {
   "cell_type": "code",
   "execution_count": 2,
   "metadata": {},
   "outputs": [
    {
     "name": "stdout",
     "output_type": "stream",
     "text": [
      "[[1. 0. 0.]\n",
      " [0. 1. 0.]\n",
      " [0. 0. 1.]\n",
      " [1. 1. 0.]\n",
      " [1. 1. 1.]\n",
      " [1. 0. 1.]]\n"
     ]
    }
   ],
   "source": [
    "# define parity check matrix\n",
    "H = np.array([\n",
    "    [1,1,1,1,0,0],\n",
    "    [0,0,1,1,0,1],\n",
    "    [1,0,0,1,1,0]\n",
    "])\n",
    "\n",
    "H_perm, G = util.generate_encoder(H)\n",
    "print(G)"
   ]
  },
  {
   "cell_type": "code",
   "execution_count": 3,
   "metadata": {},
   "outputs": [
    {
     "data": {
      "text/plain": [
       "array([[1, 1, 0, 1, 0, 0],\n",
       "       [1, 1, 1, 0, 1, 0],\n",
       "       [1, 0, 1, 0, 0, 1]])"
      ]
     },
     "execution_count": 3,
     "metadata": {},
     "output_type": "execute_result"
    }
   ],
   "source": [
    "H_perm"
   ]
  },
  {
   "cell_type": "code",
   "execution_count": 4,
   "metadata": {},
   "outputs": [
    {
     "name": "stdout",
     "output_type": "stream",
     "text": [
      "[[1 1 1]\n",
      " [0 0 0]\n",
      " [1 0 1]]\n"
     ]
    }
   ],
   "source": [
    "# generate some random ts and assert H_hat @ G @ t = 0\n",
    "ts = np.random.randint(0, 2, size=9).reshape((3, 3))\n",
    "print(ts)"
   ]
  },
  {
   "cell_type": "code",
   "execution_count": 7,
   "metadata": {},
   "outputs": [
    {
     "name": "stdout",
     "output_type": "stream",
     "text": [
      "[0. 0. 0.]\n",
      "[0. 0. 0.]\n",
      "[0. 0. 0.]\n"
     ]
    }
   ],
   "source": [
    "for t in ts:\n",
    "    print((H_perm @ G @ t) % 2)"
   ]
  },
  {
   "cell_type": "code",
   "execution_count": null,
   "metadata": {},
   "outputs": [],
   "source": []
  }
 ],
 "metadata": {
  "kernelspec": {
   "display_name": "base",
   "language": "python",
   "name": "python3"
  },
  "language_info": {
   "codemirror_mode": {
    "name": "ipython",
    "version": 3
   },
   "file_extension": ".py",
   "mimetype": "text/x-python",
   "name": "python",
   "nbconvert_exporter": "python",
   "pygments_lexer": "ipython3",
   "version": "3.11.3"
  }
 },
 "nbformat": 4,
 "nbformat_minor": 2
}
