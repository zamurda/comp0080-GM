{
 "cells": [
  {
   "cell_type": "markdown",
   "metadata": {},
   "source": [
    "### 1. Perform exact inference\n",
    "Treat each column as one variable with 2^n states and perform message passing on the induced factor-graph."
   ]
  },
  {
   "cell_type": "code",
   "execution_count": 2,
   "metadata": {},
   "outputs": [
    {
     "name": "stderr",
     "output_type": "stream",
     "text": [
      "C:\\Users\\rache\\AppData\\Local\\Temp\\ipykernel_27048\\2725918909.py:53: DeprecationWarning: `product` is deprecated as of NumPy 1.25.0, and will be removed in NumPy 2.0. Please use `prod` instead.\n",
      "  probs = joint_probability(beta, N, states)\n"
     ]
    },
    {
     "name": "stdout",
     "output_type": "stream",
     "text": [
      "For beta = 4:\n",
      "Probability of x1,10 = -1 and x10,10 = -1: 0.0009732925340423237\n",
      "Probability of x1,10 = -1 and x10,10 = 1: 1.7566483808458602e-38\n",
      "Probability of x1,10 = 1 and x10,10 = -1: 1.7566483808458602e-38\n",
      "Probability of x1,10 = 1 and x10,10 = 1: 0.0009732925340423141\n",
      "\n",
      "For beta = 3:\n",
      "Probability of x1,10 = -1 and x10,10 = -1: 0.0009526827012922457\n",
      "Probability of x1,10 = -1 and x10,10 = 1: 8.342176327300286e-30\n",
      "Probability of x1,10 = 1 and x10,10 = -1: 8.342176327300286e-30\n",
      "Probability of x1,10 = 1 and x10,10 = 1: 0.0009526827012922314\n",
      "\n",
      "For beta = 1:\n",
      "Probability of x1,10 = -1 and x10,10 = -1: 0.0002744471311724596\n",
      "Probability of x1,10 = -1 and x10,10 = 1: 5.656776985839809e-13\n",
      "Probability of x1,10 = 1 and x10,10 = -1: 5.656776985839809e-13\n",
      "Probability of x1,10 = 1 and x10,10 = 1: 0.0002744471311724551\n",
      "\n",
      "For beta = 0.5:\n",
      "Probability of x1,10 = -1 and x10,10 = -1: 4.258158475989125e-05\n",
      "Probability of x1,10 = -1 and x10,10 = 1: 1.9332009572743543e-09\n",
      "Probability of x1,10 = 1 and x10,10 = -1: 1.9332009572743543e-09\n",
      "Probability of x1,10 = 1 and x10,10 = 1: 4.258158475989111e-05\n",
      "\n",
      "For beta = 0.01:\n",
      "Probability of x1,10 = -1 and x10,10 = -1: 1.0534462737511289e-06\n",
      "Probability of x1,10 = -1 and x10,10 = 1: 8.62488861035456e-07\n",
      "Probability of x1,10 = 1 and x10,10 = -1: 8.62488861035456e-07\n",
      "Probability of x1,10 = 1 and x10,10 = 1: 1.0534462737511266e-06\n",
      "\n"
     ]
    }
   ],
   "source": [
    "import numpy as np\n",
    "from itertools import product\n",
    "\n",
    "# Ising model parameters\n",
    "N = 10  # Lattice size (10x10)\n",
    "beta_values = [4, 3, 1, 0.5, 0.01]  # Beta values\n",
    "states = [-1, 1]  # Possible spin states\n",
    "\n",
    "# Function to calculate the interaction energy between two nodes\n",
    "def interaction_energy(s1, s2, beta):\n",
    "    return np.exp(beta * s1 * s2)\n",
    "\n",
    "# Function to calculate the joint probability of x_{1,10} and x_{10,10}\n",
    "def joint_probability(beta, N, states):\n",
    "    # Initialize all possible configurations for one column\n",
    "    column_states = list(product(states, repeat=N))\n",
    "    num_states = len(column_states)\n",
    "    \n",
    "    # Calculate interaction potentials for all combinations of adjacent column states\n",
    "    potentials = np.zeros((num_states, num_states))\n",
    "    for i, col1 in enumerate(column_states):\n",
    "        for j, col2 in enumerate(column_states):\n",
    "            potentials[i, j] = np.product(interaction_energy(np.array(col1), np.array(col2), beta))\n",
    "    \n",
    "    # Initialize messages (initial probabilities) as uniform\n",
    "    messages = np.ones(num_states)\n",
    "    \n",
    "    # Perform message passing to calculate marginal probabilities\n",
    "    Z_local = np.ones(N-1)  # Array to store local partition functions\n",
    "    for i in range(N-1):  # Pass messages through N-1 intermediate nodes\n",
    "        messages = potentials.dot(messages)\n",
    "        Z_local[i] = messages.sum()  # Calculate local partition function\n",
    "        messages /= Z_local[i]  # Normalize the messages\n",
    "    \n",
    "    # Calculate Z as the product of local partition functions\n",
    "    Z = np.product(Z_local)\n",
    "    \n",
    "    # Calculate joint probability for x_{1,10} and x_{10,10}\n",
    "    joint_probs = np.outer(messages, messages) * potentials\n",
    "    joint_probs /= joint_probs.sum()  # Normalize the joint probability\n",
    "    \n",
    "    # Extract probabilities for specific combinations of x_{1,10} and x_{10,10}\n",
    "    prob_combinations = {\n",
    "        (-1, -1): joint_probs[0, 0],\n",
    "        (-1, 1): joint_probs[0, -1],\n",
    "        (1, -1): joint_probs[-1, 0],\n",
    "        (1, 1): joint_probs[-1, -1]\n",
    "    }\n",
    "    return prob_combinations\n",
    "\n",
    "# Calculate and display probabilities for each beta value\n",
    "for beta in beta_values:\n",
    "    probs = joint_probability(beta, N, states)\n",
    "    print(f\"For beta = {beta}:\")\n",
    "    for (s1, s10), prob in probs.items():\n",
    "        print(f\"Probability of x1,10 = {s1} and x10,10 = {s10}: {prob}\")\n",
    "    print()\n"
   ]
  }
 ],
 "metadata": {
  "kernelspec": {
   "display_name": "Python 3",
   "language": "python",
   "name": "python3"
  },
  "language_info": {
   "codemirror_mode": {
    "name": "ipython",
    "version": 3
   },
   "file_extension": ".py",
   "mimetype": "text/x-python",
   "name": "python",
   "nbconvert_exporter": "python",
   "pygments_lexer": "ipython3",
   "version": "3.9.18"
  }
 },
 "nbformat": 4,
 "nbformat_minor": 2
}
